{
 "cells": [
  {
   "cell_type": "code",
   "execution_count": 1,
   "id": "2fa93911",
   "metadata": {},
   "outputs": [],
   "source": [
    "import pandas as pd\n",
    "import numpy as np\n",
    "import matplotlib.pyplot as plt \n",
    "import seaborn as sns\n",
    "import random"
   ]
  },
  {
   "cell_type": "code",
   "execution_count": 2,
   "id": "80b7522d",
   "metadata": {},
   "outputs": [
    {
     "name": "stdout",
     "output_type": "stream",
     "text": [
      "             timestamp purchase                       item\n",
      "0  2020-01-17 17:23:06        y  cue cards - love actually\n",
      "1  2020-01-25 17:09:39        n                        NaN\n",
      "2  2020-01-25 05:22:01        n                        NaN\n",
      "3  2020-01-18 04:33:40        y      t-rex - jurassic park\n",
      "4  2020-01-24 17:24:52        n                        NaN\n"
     ]
    }
   ],
   "source": [
    "monthly_report = pd.read_csv('monthly_report.csv')\n",
    "print(monthly_report.head())"
   ]
  },
  {
   "cell_type": "code",
   "execution_count": 3,
   "id": "629cabab",
   "metadata": {},
   "outputs": [
    {
     "name": "stdout",
     "output_type": "stream",
     "text": [
      "<class 'pandas.core.frame.DataFrame'>\n",
      "RangeIndex: 500 entries, 0 to 499\n",
      "Data columns (total 3 columns):\n",
      " #   Column     Non-Null Count  Dtype \n",
      "---  ------     --------------  ----- \n",
      " 0   timestamp  500 non-null    object\n",
      " 1   purchase   500 non-null    object\n",
      " 2   item       41 non-null     object\n",
      "dtypes: object(3)\n",
      "memory usage: 11.8+ KB\n"
     ]
    }
   ],
   "source": [
    "monthly_report.info()"
   ]
  },
  {
   "cell_type": "code",
   "execution_count": 4,
   "id": "610c1826",
   "metadata": {},
   "outputs": [
    {
     "data": {
      "text/plain": [
       "timestamp     0\n",
       "purchase     41\n",
       "item          0\n",
       "dtype: int64"
      ]
     },
     "execution_count": 4,
     "metadata": {},
     "output_type": "execute_result"
    }
   ],
   "source": [
    "np.sum(monthly_report == 'y')"
   ]
  },
  {
   "cell_type": "code",
   "execution_count": 5,
   "id": "760e38cc",
   "metadata": {},
   "outputs": [
    {
     "data": {
      "text/plain": [
       "0       True\n",
       "1      False\n",
       "2      False\n",
       "3       True\n",
       "4      False\n",
       "       ...  \n",
       "495    False\n",
       "496    False\n",
       "497    False\n",
       "498    False\n",
       "499    False\n",
       "Name: purchase, Length: 500, dtype: bool"
      ]
     },
     "execution_count": 5,
     "metadata": {},
     "output_type": "execute_result"
    }
   ],
   "source": [
    "monthly_report.purchase == 'y'"
   ]
  },
  {
   "cell_type": "code",
   "execution_count": 6,
   "id": "75d0e732",
   "metadata": {},
   "outputs": [
    {
     "name": "stdout",
     "output_type": "stream",
     "text": [
      "43\n"
     ]
    }
   ],
   "source": [
    "flips = np.random.choice(['heads', 'tails'], size=100, p=[.5,.5])\n",
    "num_heads = np.sum(flips == 'heads')\n",
    "print(num_heads)"
   ]
  },
  {
   "cell_type": "code",
   "execution_count": 7,
   "id": "ee53a6cd",
   "metadata": {},
   "outputs": [],
   "source": [
    "flip_results = []\n",
    "for i in range(10000):\n",
    "    flips = np.random.choice(['heads', 'tails'], size=100, p=[.5,.5])\n",
    "    num_heads = np.sum(flips == 'heads')\n",
    "    flip_results.append(num_heads)"
   ]
  },
  {
   "cell_type": "code",
   "execution_count": 8,
   "id": "01497264",
   "metadata": {},
   "outputs": [
    {
     "data": {
      "image/png": "[encoded data removed]",
      "text/plain": [
       "<Figure size 432x288 with 1 Axes>"
      ]
     },
     "metadata": {
      "needs_background": "light"
     },
     "output_type": "display_data"
    }
   ],
   "source": [
    "plt.hist(flip_results)\n",
    "plt.show()"
   ]
  },
  {
   "cell_type": "code",
   "execution_count": 9,
   "id": "f0638177",
   "metadata": {},
   "outputs": [
    {
     "name": "stdout",
     "output_type": "stream",
     "text": [
      "43\n"
     ]
    }
   ],
   "source": [
    "simulated_visitors = np.random.choice(['y', 'n'], size=500, p=[.1,.9])\n",
    "purchases = np.sum(simulated_visitors == 'y')\n",
    "print(purchases)"
   ]
  },
  {
   "cell_type": "code",
   "execution_count": 11,
   "id": "e0accfb7",
   "metadata": {},
   "outputs": [],
   "source": [
    "null_purchases = []\n",
    "for i in range(10000):\n",
    "    simulated_visitors = np.random.choice(['y', 'n'], size=500, p=[.1,.9])\n",
    "    purchases = np.sum(simulated_visitors == 'y')\n",
    "    null_purchases.append(purchases)"
   ]
  },
  {
   "cell_type": "code",
   "execution_count": 15,
   "id": "9bb7a05c",
   "metadata": {},
   "outputs": [
    {
     "data": {
      "image/png": "[encoded data removed]",
      "text/plain": [
       "<Figure size 432x288 with 1 Axes>"
      ]
     },
     "metadata": {
      "needs_background": "light"
     },
     "output_type": "display_data"
    }
   ],
   "source": [
    "plt.hist(null_purchases)\n",
    "plt.axvline(43, color='r')\n",
    "plt.xlabel('Number of purchases')\n",
    "plt.ylabel('Count')\n",
    "plt.show()"
   ]
  },
  {
   "cell_type": "code",
   "execution_count": 17,
   "id": "87d6d09d",
   "metadata": {},
   "outputs": [],
   "source": [
    "#null hypothesis is that the probability of a purchase is 10%\n",
    "#alternative hypothesis: the probability of a purchase is less than 10%"
   ]
  },
  {
   "cell_type": "code",
   "execution_count": 28,
   "id": "c147e521",
   "metadata": {},
   "outputs": [
    {
     "name": "stdout",
     "output_type": "stream",
     "text": [
      "0.1666\n"
     ]
    }
   ],
   "source": [
    "p_value = np.sum(np.array(null_purchases) <= 43)/len(null_purchases)\n",
    "print(p_value)"
   ]
  },
  {
   "cell_type": "code",
   "execution_count": 31,
   "id": "25af3d70",
   "metadata": {},
   "outputs": [
    {
     "name": "stdout",
     "output_type": "stream",
     "text": [
      "0.33231423210016187\n"
     ]
    }
   ],
   "source": [
    "#the probability that the purchase rate is less than or equal to 43 or greater than or equal to 57.\n",
    "from scipy.stats import binom_test\n",
    "p_value2 = binom_test(43, 500, p=.1)\n",
    "print(p_value2)"
   ]
  },
  {
   "cell_type": "code",
   "execution_count": null,
   "id": "7343aa68",
   "metadata": {},
   "outputs": [],
   "source": []
  }
 ],
 "metadata": {
  "kernelspec": {
   "display_name": "Python 3 (ipykernel)",
   "language": "python",
   "name": "python3"
  },
  "language_info": {
   "codemirror_mode": {
    "name": "ipython",
    "version": 3
   },
   "file_extension": ".py",
   "mimetype": "text/x-python",
   "name": "python",
   "nbconvert_exporter": "python",
   "pygments_lexer": "ipython3",
   "version": "3.9.12"
  }
 },
 "nbformat": 4,
 "nbformat_minor": 5
}
